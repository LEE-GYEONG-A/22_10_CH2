{
  "nbformat": 4,
  "nbformat_minor": 0,
  "metadata": {
    "colab": {
      "provenance": [],
      "authorship_tag": "ABX9TyOZ4SkKs4YNUq/7psAWMZtb",
      "include_colab_link": true
    },
    "kernelspec": {
      "name": "python3",
      "display_name": "Python 3"
    },
    "language_info": {
      "name": "python"
    }
  },
  "cells": [
    {
      "cell_type": "markdown",
      "metadata": {
        "id": "view-in-github",
        "colab_type": "text"
      },
      "source": [
        "<a href=\"https://colab.research.google.com/github/LEE-GYEONG-A/22_10_CH2/blob/main/CH2.ipynb\" target=\"_parent\"><img src=\"https://colab.research.google.com/assets/colab-badge.svg\" alt=\"Open In Colab\"/></a>"
      ]
    },
    {
      "cell_type": "markdown",
      "source": [
        "이름을 입력하시오: 홀길동\n",
        "홍길동 씨, 안녕하세요?\n",
        "파이썬에 오신 것을 환영합니다.\n",
        "첫 번째 정수를 입력하시오: 300\n",
        "두 번째 정수를 입력하시오: 400\n",
        "300 과 400의 합은 700 입니다."
      ],
      "metadata": {
        "id": "GrtuYuCbtpN3"
      }
    },
    {
      "cell_type": "code",
      "source": [
        "x=input(\"이름을 입력하시오:\")\n",
        "print(x,\" 씨, \",\"안녕하세요?\")\n",
        "print(\"파이썬에 오신 것을 환영합니다.\")\n",
        "y=int(input(\"첫 번째 정수를 입력하시오:\"))\n",
        "z=int(input(\"두 번째 정수를 입럭하시오:\"))\n",
        "sum=(y+z)\n",
        "print(y,\"과\",z,\"합은\", sum,\"입니다.\")"
      ],
      "metadata": {
        "colab": {
          "base_uri": "https://localhost:8080/"
        },
        "id": "ERdAbsChuMRn",
        "outputId": "47b67368-798c-4ae3-e15d-82f6cb4891be"
      },
      "execution_count": 10,
      "outputs": [
        {
          "output_type": "stream",
          "name": "stdout",
          "text": [
            "이름을 입력하시오:이경아\n",
            "이경아  씨,  안녕하세요?\n",
            "파이썬에 오신 것을 환영합니다.\n",
            "첫 번째 정수를 입력하시오:300\n",
            "두 번째 정수를 입럭하시오:400\n",
            "300 과 400 합은 700 입니다.\n"
          ]
        }
      ]
    },
    {
      "cell_type": "code",
      "source": [
        ":"
      ],
      "metadata": {
        "id": "ee8GkjWvuTMh"
      },
      "execution_count": null,
      "outputs": []
    }
  ]
}